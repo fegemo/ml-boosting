{
 "cells": [
  {
   "cell_type": "markdown",
   "id": "8085c3b4",
   "metadata": {},
   "source": [
    "![Avatar foto de Flávio Coutinho](https://fegemo.github.io/cefet-front-end/images/flavio-avatar.jpg)\n",
    "# TP2 - Boosting com o CoutoBoost\n",
    "\n",
    "\n",
    "<dl style=\"margin-top: 1.5em\">\n",
    "    <dt>Aluno</dt><dd>Flávio Coutinho</dd>\n",
    "    <dt>Turma</dt><dd>Aprendizado de Máquina, UFMG, 01/21</dd>\n",
    "    <dt>Objetivo</dt><dd>Implementar um processo de <em>boosting</em> para o problema de classificar o resultado de jogos da velha.</dd>\n",
    "    <dt>Link</dt><dd><a href=\"https://fegemo.github.io/ml-boosting/\" target=\"_blank\">https://fegemo.github.io/ml-boosting/</a>\n",
    "</dl>\n",
    "\n",
    "Conteúdo deste _notebook_:\n",
    "- [Descrição dos dados](#Descrição-dos-dados)\n",
    "- [Preparação dos dados](#Preparação-dos-dados)\n",
    "- [Implementação](#Implementação)\n",
    "- [Experimentos](#Experimentos)\n",
    "   - [Baseline: AdaBoost](#Baseline:-AdaBoost)\n",
    "   - [CoutoBoost](#CoutoBoost)\n",
    "- [Análises](#Análises)\n",
    "    - [Análise cruzada](#Análise-cruzada)\n",
    "    - [Processo de Boosting](#Processo-de-Boosting)\n"
   ]
  },
  {
   "cell_type": "code",
   "execution_count": 1,
   "id": "96404a29",
   "metadata": {},
   "outputs": [],
   "source": [
    "%matplotlib inline\n",
    "import pandas as pd\n",
    "import matplotlib.pyplot as plt\n",
    "plt.rcParams.update({'figure.figsize':(7,5)})"
   ]
  },
  {
   "cell_type": "code",
   "execution_count": 1,
   "id": "3d9dca96-0e38-41e3-ae5c-b179f2de211f",
   "metadata": {},
   "outputs": [
    {
     "data": {
      "text/html": [
       "<style>@import url('https://fonts.googleapis.com/css2?family=Bitter&family=Titillium+Web:wght@300&display=swap');\n",
       "\n",
       "html,\n",
       "#notebook {\n",
       "    scroll-behavior: smooth;\n",
       "}\n",
       "\n",
       "body {\n",
       "    font-family: 'Bitter', serif;\n",
       "}\n",
       "\n",
       "h1, h2, h3, h4, h5, h6 {\n",
       "    font-family: 'Titillium Web', sans-serif;\n",
       "}\n",
       "\n",
       "dl {\n",
       "    display: grid;\n",
       "    grid-template-columns: auto 1fr;\n",
       "    gap: 0.25em 1em;\n",
       "}\n",
       "\n",
       "dt {\n",
       "    grid-column: 1 / 2;\n",
       "}\n",
       "\n",
       "dd {\n",
       "    grid-column: 2 / 3;\n",
       "}\n",
       "\n",
       "img[alt^=\"Avatar\"] {\n",
       "    float: right;\n",
       "    border-radius: 50%;\n",
       "    max-width: 150px;\n",
       "    shape-outside: circle(50%);\n",
       "}\n",
       "\n",
       ".jp-Cell.jp-mod-rendered .jp-RenderedMarkdown > h2,\n",
       ".text_cell.rendered .rendered_html > h2 {\n",
       "    border-bottom: 3px solid black;\n",
       "    padding-bottom: 0.25em;\n",
       "}\n",
       "\n",
       "/* Estilos da primeira cÃ©lula HTML */\n",
       "#MathJax_Message + .jp-Cell-inputWrapper:nth-of-type(2),\n",
       ".jp-Cell.jp-mod-rendered:first-of-type,\n",
       ".text_cell.rendered:first-of-type {\n",
       "    background-image: url(tic-tac-toe.jpg);\n",
       "    background-size: contain;\n",
       "    background-repeat: repeat-x;\n",
       "}\n",
       "\n",
       "#MathJax_Message + .jp-Cell-inputWrapper:nth-of-type(2) .jp-RenderedMarkdown,\n",
       ".jp-Cell.jp-mod-rendered:first-of-type .jp-RenderedMarkdown,\n",
       ".text_cell.rendered:first-of-type .rendered_html {\n",
       "    color: white;\n",
       "}\n",
       "\n",
       "#MathJax_Message + .jp-Cell-inputWrapper:nth-of-type(2) .jp-RenderedMarkdown a:link,\n",
       ".jp-Cell.jp-mod-rendered:first-of-type .jp-RenderedMarkdown a:link,\n",
       ".text_cell.rendered:first-of-type .rendered_html a:link {\n",
       "    color: #3ea6ff;\n",
       "    text-decoration: none;\n",
       "}\n",
       "\n",
       "#MathJax_Message + .jp-Cell-inputWrapper:nth-of-type(2) .jp-RenderedMarkdown a:visited,\n",
       ".jp-Cell.jp-mod-rendered:first-of-type .jp-RenderedMarkdown a:visited,\n",
       ".text_cell.rendered:first-of-type .rendered_html a:visited {\n",
       "    color: #09ee42;\n",
       "}\n",
       "\n",
       "#MathJax_Message + .jp-Cell-inputWrapper:nth-of-type(2) .jp-RenderedMarkdown a:hover,\n",
       ".jp-Cell.jp-mod-rendered:first-of-type .jp-RenderedMarkdown a:hover,\n",
       ".text_cell.rendered:first-of-type .rendered_html a:hover {\n",
       "    background-color: #fff1;\n",
       "}\n",
       "\n",
       "#MathJax_Message + .jp-Cell-inputWrapper:nth-of-type(2) .jp-RenderedMarkdown ul,\n",
       ".jp-Cell.jp-mod-rendered:first-of-type ul,\n",
       ".text_cell.rendered:first-of-type ul {\n",
       "    display: flex;\n",
       "    list-style-type: none;\n",
       "    padding-left: 0;\n",
       "    gap: 0.5em;\n",
       "    text-align: center;\n",
       "}\n",
       "\n",
       "#MathJax_Message + .jp-Cell-inputWrapper:nth-of-type(2) .jp-RenderedMarkdown ul > li > a,\n",
       ".jp-Cell.jp-mod-rendered:first-of-type ul > li > a,\n",
       ".text_cell.rendered:first-of-type ul > li > a {\n",
       "    display: block;\n",
       "    border: 3px double #ffffff40;\n",
       "    border-radius: 5px;\n",
       "    padding: 0.25em 1em;\n",
       "}\n",
       "\n",
       "#MathJax_Message + .jp-Cell-inputWrapper:nth-of-type(2) .jp-RenderedMarkdown ul > li > ul,\n",
       ".jp-Cell.jp-mod-rendered:first-of-type ul > li > ul,\n",
       ".text_cell.rendered:first-of-type ul > li > ul {\n",
       "    opacity: 0;\n",
       "    text-align: left;\n",
       "    flex-direction: column;\n",
       "}\n",
       "\n",
       "#MathJax_Message + .jp-Cell-inputWrapper:nth-of-type(2) .jp-RenderedMarkdown ul > li > ul > li > a,\n",
       ".jp-Cell.jp-mod-rendered:first-of-type ul > li > ul > li > a,\n",
       ".text_cell.rendered:first-of-type ul > li > ul > li > a {\n",
       "    border-width: 0 0 3px 0;\n",
       "    gap: 0;\n",
       "    border-radius: 0;\n",
       "    padding: 0.25em 1em;\n",
       "}\n",
       "\n",
       "#MathJax_Message + .jp-Cell-inputWrapper:nth-of-type(2) .jp-RenderedMarkdown ul > li:hover > ul,\n",
       ".jp-Cell.jp-mod-rendered:first-of-type ul > li:hover > ul,\n",
       ".text_cell.rendered:first-of-type ul > li:hover > ul {\n",
       "    opacity: 1;\n",
       "}\n",
       "</style>"
      ],
      "text/plain": [
       "<IPython.core.display.HTML object>"
      ]
     },
     "execution_count": 1,
     "metadata": {},
     "output_type": "execute_result"
    }
   ],
   "source": [
    "\"\"\"\n",
    "Define uma folha de estilos pro notebook\n",
    "\"\"\"\n",
    "from IPython.core.display import HTML\n",
    "def css_styling():\n",
    "    styles = \"<style>\" + open(\"./estilos.css\", \"r\").read() + \"</style>\"\n",
    "    return HTML(styles)\n",
    "css_styling()"
   ]
  },
  {
   "cell_type": "markdown",
   "id": "d006246f-cd03-4c20-81de-19981e503e22",
   "metadata": {},
   "source": [
    "## Descrição dos dados"
   ]
  },
  {
   "cell_type": "code",
   "execution_count": 2,
   "id": "6a92eaf4",
   "metadata": {},
   "outputs": [
    {
     "data": {
      "text/html": [
       "<div>\n",
       "<style scoped>\n",
       "    .dataframe tbody tr th:only-of-type {\n",
       "        vertical-align: middle;\n",
       "    }\n",
       "\n",
       "    .dataframe tbody tr th {\n",
       "        vertical-align: top;\n",
       "    }\n",
       "\n",
       "    .dataframe thead th {\n",
       "        text-align: right;\n",
       "    }\n",
       "</style>\n",
       "<table border=\"1\" class=\"dataframe\">\n",
       "  <thead>\n",
       "    <tr style=\"text-align: right;\">\n",
       "      <th></th>\n",
       "      <th>0</th>\n",
       "      <th>1</th>\n",
       "      <th>2</th>\n",
       "      <th>3</th>\n",
       "      <th>4</th>\n",
       "      <th>5</th>\n",
       "      <th>6</th>\n",
       "      <th>7</th>\n",
       "      <th>8</th>\n",
       "      <th>Result</th>\n",
       "    </tr>\n",
       "  </thead>\n",
       "  <tbody>\n",
       "    <tr>\n",
       "      <th>0</th>\n",
       "      <td>x</td>\n",
       "      <td>x</td>\n",
       "      <td>x</td>\n",
       "      <td>x</td>\n",
       "      <td>o</td>\n",
       "      <td>o</td>\n",
       "      <td>x</td>\n",
       "      <td>o</td>\n",
       "      <td>o</td>\n",
       "      <td>positive</td>\n",
       "    </tr>\n",
       "    <tr>\n",
       "      <th>1</th>\n",
       "      <td>x</td>\n",
       "      <td>x</td>\n",
       "      <td>x</td>\n",
       "      <td>x</td>\n",
       "      <td>o</td>\n",
       "      <td>o</td>\n",
       "      <td>o</td>\n",
       "      <td>x</td>\n",
       "      <td>o</td>\n",
       "      <td>positive</td>\n",
       "    </tr>\n",
       "    <tr>\n",
       "      <th>2</th>\n",
       "      <td>x</td>\n",
       "      <td>x</td>\n",
       "      <td>x</td>\n",
       "      <td>x</td>\n",
       "      <td>o</td>\n",
       "      <td>o</td>\n",
       "      <td>o</td>\n",
       "      <td>o</td>\n",
       "      <td>x</td>\n",
       "      <td>positive</td>\n",
       "    </tr>\n",
       "    <tr>\n",
       "      <th>3</th>\n",
       "      <td>x</td>\n",
       "      <td>x</td>\n",
       "      <td>x</td>\n",
       "      <td>x</td>\n",
       "      <td>o</td>\n",
       "      <td>o</td>\n",
       "      <td>o</td>\n",
       "      <td>b</td>\n",
       "      <td>b</td>\n",
       "      <td>positive</td>\n",
       "    </tr>\n",
       "    <tr>\n",
       "      <th>4</th>\n",
       "      <td>x</td>\n",
       "      <td>x</td>\n",
       "      <td>x</td>\n",
       "      <td>x</td>\n",
       "      <td>o</td>\n",
       "      <td>o</td>\n",
       "      <td>b</td>\n",
       "      <td>o</td>\n",
       "      <td>b</td>\n",
       "      <td>positive</td>\n",
       "    </tr>\n",
       "  </tbody>\n",
       "</table>\n",
       "</div>"
      ],
      "text/plain": [
       "   0  1  2  3  4  5  6  7  8    Result\n",
       "0  x  x  x  x  o  o  x  o  o  positive\n",
       "1  x  x  x  x  o  o  o  x  o  positive\n",
       "2  x  x  x  x  o  o  o  o  x  positive\n",
       "3  x  x  x  x  o  o  o  b  b  positive\n",
       "4  x  x  x  x  o  o  b  o  b  positive"
      ]
     },
     "execution_count": 2,
     "metadata": {},
     "output_type": "execute_result"
    }
   ],
   "source": [
    "df_original = pd.read_csv(\"tic-tac-toe.data\", names=[0, 1, 2, 3, 4, 5, 6, 7, 8, \"Result\"])\n",
    "df_original.head()"
   ]
  },
  {
   "cell_type": "code",
   "execution_count": 3,
   "id": "63031d22",
   "metadata": {},
   "outputs": [
    {
     "name": "stdout",
     "output_type": "stream",
     "text": [
      "Exemplos x características:  (958, 9)\n",
      "Taxa de positivos: 0.65\n",
      "Taxa de negativos: 0.35\n"
     ]
    }
   ],
   "source": [
    "print(\"Exemplos x características: \", (df_original.shape[0], df_original.shape[1]-1))\n",
    "positive_ratio = len(df_original.loc[df_original[\"Result\"] == \"positive\"]) / df_original.shape[0]\n",
    "negative_ratio = 1 - positive_ratio\n",
    "print(f\"Taxa de positivos: {positive_ratio:.2f}\")\n",
    "print(f\"Taxa de negativos: {negative_ratio:.2f}\")"
   ]
  },
  {
   "cell_type": "markdown",
   "id": "3511f609",
   "metadata": {},
   "source": [
    "## Preparação dos dados\n",
    "\n",
    "O algoritmo `CoutoBoostClassifier` implementado é uma versão simplificada do AdaBoost que espera receber as entradas com características binárias e a saída $\\epsilon \\{-1, +1\\}$.\n",
    "\n"
   ]
  },
  {
   "cell_type": "code",
   "execution_count": 4,
   "id": "daf4ef37",
   "metadata": {},
   "outputs": [],
   "source": [
    "from sklearn.model_selection import train_test_split\n",
    "\n",
    "\n",
    "# 1. muda a ordem das colunas colocando o label primeiro (para próximo passo)\n",
    "cols = df_original.columns.tolist()\n",
    "cols = cols[-1:] + cols[:-1]\n",
    "df = df_original[cols]\n",
    "\n",
    "\n",
    "# 2. valor numérico para rótulo\n",
    "df[\"Result\"] = df[\"Result\"].map({\n",
    "    \"positive\":  1,\n",
    "    \"negative\": -1\n",
    "})\n",
    "\n",
    "# 3. transforma cada coluna de feature em 3 colunas binárias\n",
    "df = pd.get_dummies(df, columns=[0, 1, 2, 3, 4, 5, 6, 7, 8])\n",
    "\n",
    "# 4. embaralha\n",
    "df = df.sample(frac=1)\n",
    "\n",
    "# 5. DataFrame >> ndarray\n",
    "# 6. X, y\n",
    "dados = df.to_numpy()\n",
    "y = dados[:, 0]\n",
    "X = dados[:, 1:]\n",
    "\n",
    "# 7. particiona em dados de treino e teste\n",
    "X_train, X_test, y_train, y_test = train_test_split(X, y, random_state=0, test_size=0.2)\n"
   ]
  },
  {
   "cell_type": "markdown",
   "id": "4458d204-1b53-4892-988f-bc9c1d81f5ac",
   "metadata": {},
   "source": [
    "## Implementação"
   ]
  },
  {
   "cell_type": "code",
   "execution_count": null,
   "id": "88b518ad-25c2-4604-8414-9b34478ba9f6",
   "metadata": {},
   "outputs": [],
   "source": []
  },
  {
   "cell_type": "markdown",
   "id": "d7ed039a-f891-4b6c-a4e9-8d68b994a050",
   "metadata": {},
   "source": [
    "## Experimentos"
   ]
  },
  {
   "cell_type": "markdown",
   "id": "83768c97",
   "metadata": {},
   "source": [
    "### Baseline: AdaBoost\n",
    "\n",
    "Para fins de comparação, vamos resolver o problema usando a implementação de AdaBoost do pacote `sklearn.ensemble`."
   ]
  },
  {
   "cell_type": "code",
   "execution_count": 5,
   "id": "e8788b18",
   "metadata": {},
   "outputs": [],
   "source": [
    "# configuração do experimento\n",
    "iterations = 200\n"
   ]
  },
  {
   "cell_type": "code",
   "execution_count": 6,
   "id": "08832d7c",
   "metadata": {},
   "outputs": [
    {
     "data": {
      "text/plain": [
       "AdaBoostClassifier(n_estimators=200)"
      ]
     },
     "execution_count": 6,
     "metadata": {},
     "output_type": "execute_result"
    }
   ],
   "source": [
    "from sklearn.ensemble import AdaBoostClassifier\n",
    "from sklearn.metrics import accuracy_score\n",
    "\n",
    "clf_baseline = AdaBoostClassifier(n_estimators=iterations)\n",
    "clf_baseline.fit(X_train, y_train)"
   ]
  },
  {
   "cell_type": "code",
   "execution_count": 7,
   "id": "ad4c8a56",
   "metadata": {},
   "outputs": [
    {
     "name": "stdout",
     "output_type": "stream",
     "text": [
      "Acurácia de AdaBoost(200): 0.9791666666666666\n"
     ]
    }
   ],
   "source": [
    "y_hat_baseline = clf_baseline.predict(X_test)\n",
    "\n",
    "score_baseline = accuracy_score(y_test, y_hat_baseline)\n",
    "print(f\"Acurácia de AdaBoost({iterations}):\", score_baseline)"
   ]
  },
  {
   "cell_type": "markdown",
   "id": "240ca9f5",
   "metadata": {},
   "source": [
    "### CoutoBoost\n",
    "\n",
    "Similar aos algoritmos do pacote `sklearn`, o `CoutoBoostClassifier` tem em sua interface pública os métodos `fit(X, y)` e `predict(X)`, sendo que este último pode receber um parâmetro `max_estimators` que indica a quantidade de hipóteses, das que foram treinadas, que serão usadas para a classificação. Se omitido, todas as hipóteses serão usadas."
   ]
  },
  {
   "cell_type": "code",
   "execution_count": 8,
   "id": "a39bddb3",
   "metadata": {},
   "outputs": [
    {
     "data": {
      "text/plain": [
       "CoutoBoostClassifier(max_estimators=200)"
      ]
     },
     "execution_count": 8,
     "metadata": {},
     "output_type": "execute_result"
    }
   ],
   "source": [
    "from couto_boost import CoutoBoostClassifier\n",
    "\n",
    "clf = CoutoBoostClassifier(max_estimators=iterations)\n",
    "clf.fit(X_train, y_train)"
   ]
  },
  {
   "cell_type": "code",
   "execution_count": 11,
   "id": "8219e88f-c23f-43d4-89a5-14088087c2f2",
   "metadata": {},
   "outputs": [
    {
     "name": "stdout",
     "output_type": "stream",
     "text": [
      "Acurácia de CoutoBoost(200): 0.9791666666666666\n"
     ]
    }
   ],
   "source": [
    "y_hat = clf_baseline.predict(X_test)\n",
    "\n",
    "score = accuracy_score(y_test, y_hat)\n",
    "print(f\"Acurácia de CoutoBoost({iterations}):\", score)"
   ]
  },
  {
   "cell_type": "markdown",
   "id": "a9bb99fa",
   "metadata": {},
   "source": [
    "Com o classificador **CoutoBoost** implementado, vamos ver como sua acurácia se comporta de acordo com o número de iterações:"
   ]
  },
  {
   "cell_type": "code",
   "execution_count": 12,
   "id": "df3d70fe",
   "metadata": {},
   "outputs": [
    {
     "data": {
      "text/plain": [
       "Text(0.5, 1.0, 'Matriz de confusão na iteração 200')"
      ]
     },
     "execution_count": 12,
     "metadata": {},
     "output_type": "execute_result"
    },
    {
     "data": {
      "image/png": "[encoded data removed]",
      "text/plain": [
       "<Figure size 1152x432 with 3 Axes>"
      ]
     },
     "metadata": {
      "needs_background": "light"
     },
     "output_type": "display_data"
    }
   ],
   "source": [
    "import matplotlib.pyplot as plt\n",
    "import numpy as np\n",
    "from sklearn.metrics import zero_one_loss\n",
    "from sklearn.metrics import plot_confusion_matrix\n",
    "\n",
    "accuracies = []\n",
    "errors = []\n",
    "\n",
    "for max_iterations in np.arange(1, iterations):\n",
    "    y_hat = clf.predict(X_test, max_estimators=max_iterations)\n",
    "    score = accuracy_score(y_test, y_hat)\n",
    "    error = zero_one_loss(y_test, y_hat)\n",
    "    accuracies.append(score)\n",
    "    errors.append(error)\n",
    "\n",
    "# mostra o erro ao longo das iterações\n",
    "plt.rcParams.update({'figure.figsize':(16,6)})\n",
    "fig, [axL, axR] = plt.subplots(1, 2)\n",
    "fig.suptitle(f\"Análise incial de CoutoBoost\")\n",
    "axL.plot(np.arange(1, iterations), errors)\n",
    "axL.set(xlabel='iterações', ylabel='erro',\n",
    "       title='Erro por iteração')\n",
    "axL.grid()\n",
    "\n",
    "plot_confusion_matrix(clf, X_test, y_test, cmap=plt.cm.Blues, display_labels=[\"negative\", \"positive\"], normalize=\"all\", ax=axR)\n",
    "axR.set_title(f\"Matriz de confusão na iteração {iterations}\")\n",
    "\n"
   ]
  },
  {
   "cell_type": "markdown",
   "id": "46f895c3-84e4-4ff4-97ce-63ad5b66b77f",
   "metadata": {},
   "source": [
    "## Análises"
   ]
  },
  {
   "cell_type": "markdown",
   "id": "257e7e34-3f2a-4109-9eef-76114b4633aa",
   "metadata": {},
   "source": [
    "### Análise Cruzada"
   ]
  },
  {
   "cell_type": "code",
   "execution_count": 13,
   "id": "ad4596fc",
   "metadata": {},
   "outputs": [],
   "source": [
    "X = np.append(X_train, X_test, axis=0)\n",
    "y = np.append(y_train, y_test, axis=0)\n"
   ]
  },
  {
   "cell_type": "code",
   "execution_count": 14,
   "id": "025ff4b7",
   "metadata": {},
   "outputs": [],
   "source": [
    "from sklearn.metrics import auc, plot_roc_curve, precision_recall_curve, plot_precision_recall_curve, average_precision_score\n",
    "from sklearn.model_selection import StratifiedKFold\n",
    "\n",
    "def analyze_and_plot_estimator(estimator, estimator_name, X, y):\n",
    "    \"\"\"\n",
    "    Faz (1) validação cruzada, gerando gráfico de curva AOC-ROC e (2) testando nos dados de teste para gerar curva precision-recall\n",
    "    \"\"\"\n",
    "    # 1. curva ROC\n",
    "    cross_validator = StratifiedKFold(n_splits=5)\n",
    "    tprs = []\n",
    "    aucs = []\n",
    "    mean_fpr = np.linspace(0, 1, 100)\n",
    "\n",
    "    fig, (ax1, ax2) = plt.subplots(1, 2)\n",
    "    fig.suptitle(f\"Análise da validação cruzada de {estimator_name}\")\n",
    "    for i, (train, test) in enumerate(cross_validator.split(X, y)):\n",
    "        estimator.fit(X[train], y[train])\n",
    "        vizualization = plot_roc_curve(estimator, X[test], y[test], name=f\"ROC do fold {i}\", alpha=0.3, lw=1, ax=ax1)\n",
    "        interp_tpr = np.interp(mean_fpr, vizualization.fpr, vizualization.tpr)\n",
    "        interp_tpr[0] = 0.0\n",
    "        tprs.append(interp_tpr)\n",
    "        aucs.append(vizualization.roc_auc)\n",
    "\n",
    "    ax1.plot([0, 1], [0, 1], linestyle=\"--\", lw=1, color=\"r\", label=\"Acaso\", alpha=.8)\n",
    "\n",
    "    mean_tpr = np.mean(tprs, axis=0)\n",
    "    mean_tpr[-1] = 1.0\n",
    "    mean_auc = auc(mean_fpr, mean_tpr)\n",
    "    std_auc = np.std(aucs)\n",
    "\n",
    "    ax1.plot(mean_fpr, mean_tpr, color=\"b\", label=r\"ROC média (AUC = %0.4f $\\pm$ %0.4f)\" % (mean_auc, std_auc), lw=1, alpha=.8)\n",
    "\n",
    "    std_tpr = np.std(tprs, axis=0)\n",
    "    tprs_upper = np.minimum(mean_tpr + std_tpr, 1)\n",
    "    tprs_lower = np.maximum(mean_tpr - std_tpr, 0)\n",
    "    ax1.fill_between(mean_fpr, tprs_lower, tprs_upper, color=\"grey\", alpha=.2,\n",
    "                    label=r\"$\\pm$ 1 desvio padrão\")\n",
    "    ax1.set(xlim=[-0.05, 1.05], ylim=[-0.05, 1.05],\n",
    "           title=f\"Curva ROC\")\n",
    "    ax1.set_ylabel(\"Taxa de verdadeiros positivos\")\n",
    "    ax1.set_xlabel(\"Taxa de falsos positivos\")\n",
    "    ax1.legend(loc=\"lower right\")\n",
    "    for axis in [\"top\", \"bottom\", \"left\", \"right\"]:\n",
    "        ax1.spines[axis].set_linewidth(1)\n",
    "    ax1.tick_params(width=1)\n",
    "    \n",
    "    \n",
    "    # 2. Precisão e revocação em train/test\n",
    "    visualization = plot_precision_recall_curve(estimator, X, y, ax=ax2, lw=1)\n",
    "    visualization.ax_.set_title(f\"Curva precisão-revocação\")\n",
    "\n",
    "    for axis in [\"top\", \"bottom\", \"left\", \"right\"]:\n",
    "        ax2.spines[axis].set_linewidth(1)\n",
    "    ax2.tick_params(width=1)\n",
    "    \n",
    "    \n",
    "    fig.tight_layout()\n",
    "    plt.show()\n",
    "    return dict(mean_fpr=mean_fpr, mean_tpr=mean_tpr, label=r\"ROC média (AUC = %0.4f $\\pm$ %0.4f) %s\" % (mean_auc, std_auc, estimator_name))"
   ]
  },
  {
   "cell_type": "code",
   "execution_count": 15,
   "id": "1752d9e6",
   "metadata": {},
   "outputs": [
    {
     "data": {
      "image/png": "[encoded data removed]",
      "text/plain": [
       "<Figure size 1152x576 with 2 Axes>"
      ]
     },
     "metadata": {
      "needs_background": "light"
     },
     "output_type": "display_data"
    }
   ],
   "source": [
    "plt.rcParams.update({'figure.figsize':(16,8)})\n",
    "roc = analyze_and_plot_estimator(clf, f\"CoutoBoost({iterations})\", X, y)\n"
   ]
  },
  {
   "cell_type": "markdown",
   "id": "b3d7f30f-70a2-4ea9-9e00-4fc055a4c445",
   "metadata": {},
   "source": [
    "### Processo de Boosting"
   ]
  },
  {
   "cell_type": "code",
   "execution_count": null,
   "id": "0142d671-936a-42f8-88db-a8fdbd85d225",
   "metadata": {},
   "outputs": [],
   "source": []
  }
 ],
 "metadata": {
  "interpreter": {
   "hash": "35c33a76b4c875890a2cb7e593e40385e7fd9e746bf36675bcb8826c58c07b26"
  },
  "kernelspec": {
   "display_name": "Python 3",
   "language": "python",
   "name": "python3"
  },
  "language_info": {
   "codemirror_mode": {
    "name": "ipython",
    "version": 3
   },
   "file_extension": ".py",
   "mimetype": "text/x-python",
   "name": "python",
   "nbconvert_exporter": "python",
   "pygments_lexer": "ipython3",
   "version": "3.8.8"
  }
 },
 "nbformat": 4,
 "nbformat_minor": 5
}
