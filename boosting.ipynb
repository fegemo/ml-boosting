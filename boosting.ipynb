{
 "cells": [
  {
   "cell_type": "markdown",
   "id": "5f0838d3-e706-41c2-9db5-5a61d274b1f2",
   "metadata": {},
   "source": [
    "# Boosting com o CoutoBoost"
   ]
  },
  {
   "cell_type": "code",
   "execution_count": 3,
   "id": "917da15e-339a-4cab-a032-d6ebbd7d46d5",
   "metadata": {},
   "outputs": [
    {
     "name": "stdout",
     "output_type": "stream",
     "text": [
      "Criou!!\n"
     ]
    }
   ],
   "source": [
    "from couto_boost import CoutoBoostClassifier\n",
    "\n",
    "clf = CoutoBoostClassifier()"
   ]
  }
 ],
 "metadata": {
  "kernelspec": {
   "display_name": "Python 3",
   "language": "python",
   "name": "python3"
  },
  "language_info": {
   "codemirror_mode": {
    "name": "ipython",
    "version": 3
   },
   "file_extension": ".py",
   "mimetype": "text/x-python",
   "name": "python",
   "nbconvert_exporter": "python",
   "pygments_lexer": "ipython3",
   "version": "3.8.8"
  }
 },
 "nbformat": 4,
 "nbformat_minor": 5
}
